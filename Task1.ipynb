{
 "cells": [
  {
   "cell_type": "markdown",
   "metadata": {},
   "source": [
    "# Sparks Foundation\n",
    "# Data Science & Business Analytics\n",
    "## Name - Ashutosh Singh\n",
    "## Date - 10th September, 2021\n",
    "### Task - 1 (Prediction Using Supervised ML)\n",
    "### Predict the percentage of a student based on study hours"
   ]
  },
  {
   "cell_type": "markdown",
   "metadata": {},
   "source": [
    "### Importing libraries"
   ]
  },
  {
   "cell_type": "code",
   "execution_count": 1,
   "metadata": {},
   "outputs": [],
   "source": [
    "import pandas as pd\n",
    "import numpy as np\n",
    "from sklearn.model_selection import train_test_split  \n",
    "from sklearn.linear_model import LinearRegression\n",
    "import matplotlib.pyplot as plt"
   ]
  },
  {
   "cell_type": "code",
   "execution_count": 2,
   "metadata": {},
   "outputs": [
    {
     "name": "stdout",
     "output_type": "stream",
     "text": [
      "First 5 samples:\n",
      "    Hours  Scores\n",
      "0    2.5      21\n",
      "1    5.1      47\n",
      "2    3.2      27\n",
      "3    8.5      75\n",
      "4    3.5      30\n",
      "Last 5 samples:\n",
      "     Hours  Scores\n",
      "20    2.7      30\n",
      "21    4.8      54\n",
      "22    3.8      35\n",
      "23    6.9      76\n",
      "24    7.8      86\n"
     ]
    }
   ],
   "source": [
    "df = pd.read_csv('Task1Dataset.csv')\n",
    "\n",
    "print(\"First 5 samples:\\n\",df.head())\n",
    "print(\"Last 5 samples:\\n\",df.tail())\n",
    "\n",
    "x=np.array(df[\"Hours\"]).reshape((-1,1))\n",
    "#print(x)\n",
    "y=np.array(df[\"Scores\"])\n",
    "#print(y)"
   ]
  },
  {
   "cell_type": "markdown",
   "metadata": {},
   "source": [
    "### Training and Testing"
   ]
  },
  {
   "cell_type": "code",
   "execution_count": 3,
   "metadata": {},
   "outputs": [
    {
     "name": "stdout",
     "output_type": "stream",
     "text": [
      "Testing Data:\n",
      "Hours\tActual Marks\tPredicted Marks\t\tPercentage Error\n",
      "1.5 \t 20 \t\t 16.884 \t\t 15.579\n",
      "3.2 \t 27 \t\t 33.732 \t\t -24.934\n",
      "7.4 \t 69 \t\t 75.357 \t\t -9.213\n",
      "2.5 \t 30 \t\t 26.795 \t\t 10.684\n",
      "5.9 \t 62 \t\t 60.491 \t\t 2.434\n"
     ]
    }
   ],
   "source": [
    "x_train, x_test, y_train, y_test = train_test_split(x, y, test_size=0.20, random_state=0)\n",
    "\n",
    "model=LinearRegression().fit(x_train,y_train)\n",
    "\n",
    "y_test_model=model.predict(x_test)\n",
    "y_test_model_error=[]\n",
    "print(\"Testing Data:\\nHours\\tActual Marks\\tPredicted Marks\\t\\tPercentage Error\")\n",
    "for i in range(len(x_test)):\n",
    "    y_test_model_error.append(round((y_test[i]-y_test_model[i])*100/y_test[i],3))\n",
    "    print(x_test[i][0],\"\\t\",y_test[i],\"\\t\\t\",round(y_test_model[i],3),\"\\t\\t\",y_test_model_error[i])"
   ]
  },
  {
   "cell_type": "markdown",
   "metadata": {},
   "source": [
    "### Results"
   ]
  },
  {
   "cell_type": "code",
   "execution_count": 4,
   "metadata": {},
   "outputs": [
    {
     "name": "stdout",
     "output_type": "stream",
     "text": [
      "\n",
      "Hypothesis: Y= 2.02 + 9.91 *X\n",
      "Predicted Marks when  9.25  hours studied:  94.0\n",
      "Corelation Co-efficient:  0.952\n"
     ]
    }
   ],
   "source": [
    "a=model.intercept_\n",
    "b=model.coef_[0]\n",
    "print(\"\\nHypothesis: Y=\",round(a,2),\"+\",round(b,2),\"*X\")\n",
    "\n",
    "x_predict=[[9.25]]\n",
    "y_predict=model.predict(x_predict)\n",
    "print(\"Predicted Marks when \",x_predict[0][0],\" hours studied: \",round(y_predict[0],0))\n",
    "\n",
    "R2=round(model.score(x_train,y_train),3)\n",
    "print(\"Corelation Co-efficient: \",R2)"
   ]
  },
  {
   "cell_type": "markdown",
   "metadata": {},
   "source": [
    "### Visualisation"
   ]
  },
  {
   "cell_type": "code",
   "execution_count": 5,
   "metadata": {},
   "outputs": [
    {
     "data": {
      "image/png": "[encoded data removed]",
      "text/plain": [
       "<Figure size 432x288 with 1 Axes>"
      ]
     },
     "metadata": {
      "needs_background": "light"
     },
     "output_type": "display_data"
    }
   ],
   "source": [
    "plt.scatter(x,y)\n",
    "plt.plot(x,a+b*x,c=\"green\")\n",
    "plt.plot(x_predict,y_predict,marker='X',c=\"black\")\n",
    "plt.show()"
   ]
  },
  {
   "cell_type": "code",
   "execution_count": null,
   "metadata": {},
   "outputs": [],
   "source": []
  }
 ],
 "metadata": {
  "kernelspec": {
   "display_name": "myPython37",
   "language": "python",
   "name": "mypython37"
  },
  "language_info": {
   "codemirror_mode": {
    "name": "ipython",
    "version": 3
   },
   "file_extension": ".py",
   "mimetype": "text/x-python",
   "name": "python",
   "nbconvert_exporter": "python",
   "pygments_lexer": "ipython3",
   "version": "3.7.10"
  }
 },
 "nbformat": 4,
 "nbformat_minor": 4
}
